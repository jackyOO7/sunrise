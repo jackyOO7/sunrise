{
 "cells": [
  {
   "cell_type": "code",
   "execution_count": 29,
   "metadata": {
    "collapsed": false
   },
   "outputs": [
    {
     "name": "stdout",
     "output_type": "stream",
     "text": [
      "url: http://aa.usno.navy.mil/cgi-bin/aa_rstablew.pl?ID=AA&year=2018&task=0&place=GreenwichUK&lon_sign=-1&lon_deg=0&lon_min=0&lat_sign=1&lat_deg=51&lat_min=28&tz=&tz_sign=-1\n",
      "Using local data file ./GreenwichUKlocal.txt\n"
     ]
    }
   ],
   "source": [
    "import numpy as np\n",
    "import pandas as pd\n",
    "import matplotlib.pylab as plt\n",
    "import datetime, os, urllib\n",
    "\n",
    "\"\"\"\n",
    "Instead of getting the data set manually in our browser we can adapt the URL to any coordinates that we want:\n",
    "This was the original one:\n",
    "    http://aa.usno.navy.mil/cgi-bin/aa_rstablew.pl?ID=AA&year=2018&task=0&place=Greenwich+%28UK%29&lon_sign=-1&lon_deg=0&lon_min=00&lat_sign=1&lat_deg=51&lat_min=28&tz=&tz_sign=-1\n",
    "\"\"\"\n",
    "year = 2018\n",
    "\n",
    "# Label for place name: You don't need this but it will be in the saved local file:\n",
    "label = \"GreenwichUK\" # Better not to use spaces or other special characters in this string! :) \n",
    "# Longitude West in Degrees and Minutes:\n",
    "longitude = (0, 0)\n",
    "# Latitude North in Degrees and Minutes:\n",
    "latitude = (51, 28)\n",
    "\n",
    "\n",
    "inFile = r'./%slocal.txt' % label\n",
    "\n",
    "url = \"http://aa.usno.navy.mil/cgi-bin/aa_rstablew.pl?ID=AA&year=2018&task=0&place=%s&lon_sign=-1&lon_deg=%s&lon_min=%s&lat_sign=1&lat_deg=%s&lat_min=%s&tz=&tz_sign=-1\" % (label, longitude[0], longitude[1], latitude[0], latitude[1])\n",
    "# Original:\n",
    "##url = \"http://aa.usno.navy.mil/cgi-bin/aa_rstablew.pl?ID=AA&year=2018&task=0&place=Greenwich+%28UK%29&lon_sign=-1&lon_deg=0&lon_min=00&lat_sign=1&lat_deg=51&lat_min=28&tz=&tz_sign=-1\"\n",
    "\n",
    "print \"url:\", url\n",
    "# You can use urllib to retrieve the data but we would have to clean up some html tags to use it. \n",
    "# TODO: I will do this cleanup automatically later.\n",
    "if not os.path.exists(inFile): # <----- !!!!\n",
    "    print \"Requested data file was not found locally. Fetching it from the interwebs...\"\n",
    "    urllib.urlretrieve (url, inFile)\n",
    "\n",
    "    # Dirty and dumb way to get rid of the html and css before the data table:\n",
    "    f = open(inFile, 'r')\n",
    "    html=f.readlines()\n",
    "    f.close()\n",
    "    raw = html[25:66] # Slice only the lines that we need. \n",
    "        \n",
    "    # Create/OverWrite the local file:\n",
    "    with open(inFile, \"w\") as text_file:\n",
    "        for line in raw:\n",
    "            text_file.write(line)\n",
    "    \n",
    "    \n",
    "else:\n",
    "    print \"Using local data file %s\" % inFile\n",
    "    \n",
    "\n",
    "    \n"
   ]
  },
  {
   "cell_type": "code",
   "execution_count": 30,
   "metadata": {
    "collapsed": true
   },
   "outputs": [],
   "source": [
    "# The problem with loading this with np.loadtxt() is that there are a different numbe of columns when you get to the end of each month:\n",
    "##A = np.loadtxt(inFile, skiprows=9) # Gives \"ValueError: Wrong number of columns at line 38\"\n",
    "\n",
    "# (1)\n",
    "# Let's try a pandas-based approach first:\n",
    "##df = pd.read_csv(inFile, skiprows=range(7) + [7, 8], header=None, infer_datetime_format=True)\n",
    "##print df\n",
    "# This is currently a collection of rows, where each row is a long string. It has not split the row strings into columns yet:\n",
    "##print df.shape"
   ]
  },
  {
   "cell_type": "code",
   "execution_count": 31,
   "metadata": {
    "collapsed": true
   },
   "outputs": [],
   "source": [
    "# (2)\n",
    "# Let's try a different way:\n",
    "##df = pd.read_csv(inFile, skiprows=range(7) + [7, 8], header=None, delim_whitespace=True, infer_datetime_format=True)\n",
    "##print df\n",
    "# This fails, because now February has 31 days! The columns are being shifted by the \n",
    "\n",
    "# This is currently a collection of rows, where each row is a long string. It has not split the row strings into columns yet:\n",
    "##print df.shape"
   ]
  },
  {
   "cell_type": "code",
   "execution_count": 32,
   "metadata": {
    "collapsed": false
   },
   "outputs": [
    {
     "name": "stdout",
     "output_type": "stream",
     "text": [
      "Sunrise:\n",
      "[805, 805, 805, 805, 805, 804, 804, 803, 803, 802] 365\n",
      "Sunset:\n",
      "[1602, 1603, 1604, 1605, 1606, 1608, 1609, 1610, 1612, 1613] 365\n"
     ]
    }
   ],
   "source": [
    "# (3)\n",
    "# try pandas \"fixed with\" feature by spcifying colspec tuples that correspond to start and stop of columns. \n",
    "\n",
    "# This will choose the first and seconf columns according to their column numbers in the un-split text file:\n",
    "eg = pd.read_fwf(inFile, colspecs=[(0,2), (4,8)], skiprows=9, header=None)\n",
    "\n",
    "# We can loop over this for all months and we might as well split it into sunset and sunrise at the same time.\n",
    "# This also makes it easier because the different months are separated by two spaces while the sunrise and sunset columns are separated by just one space. \n",
    "##sunrise = pd.read_fwf(inFile, colspecs=[(0,2)] + [(i, i+4) for i in range(4,132,11)], skiprows=9, header=None)\n",
    "##sunset  = pd.read_fwf(inFile, colspecs=[(0,2)] + [(i, i+4) for i in range(9,137,11)], skiprows=9, header=None)\n",
    "# Now without the day number:\n",
    "sunrise = pd.read_fwf(inFile, colspecs=[(i, i+4) for i in range(4,132,11)], skiprows=9, header=None).values.T.flatten()\n",
    "sunset  = pd.read_fwf(inFile, colspecs=[(i, i+4) for i in range(9,137,11)], skiprows=9, header=None).values.T.flatten()\n",
    "\n",
    "# Remove all NaNs from the flattened lists to leave just the days that exist: https://stackoverflow.com/questions/11620914/removing-nan-values-from-an-array\n",
    "sunrise = sunrise[~np.isnan(sunrise)].astype('int').tolist()\n",
    "sunset = sunset[~np.isnan(sunset)].astype('int').tolist()\n",
    "\n",
    "# Let's check what is happening by printing a sample:\n",
    "print \"Sunrise:\\n\", sunrise[:10], len(sunrise)\n",
    "print \"Sunset:\\n\", sunset[:10], len(sunset)"
   ]
  },
  {
   "cell_type": "code",
   "execution_count": 33,
   "metadata": {
    "collapsed": false
   },
   "outputs": [
    {
     "name": "stdout",
     "output_type": "stream",
     "text": [
      "srise:\n",
      "[datetime.time(8, 5), datetime.time(8, 5), datetime.time(8, 5), datetime.time(8, 5), datetime.time(8, 5), datetime.time(8, 4), datetime.time(8, 4), datetime.time(8, 3), datetime.time(8, 3), datetime.time(8, 2)] 365\n",
      "sset:\n",
      "[datetime.time(16, 2), datetime.time(16, 3), datetime.time(16, 4), datetime.time(16, 5), datetime.time(16, 6), datetime.time(16, 8), datetime.time(16, 9), datetime.time(16, 10), datetime.time(16, 12), datetime.time(16, 13)] 365\n"
     ]
    }
   ],
   "source": [
    "\"\"\"\n",
    "Now we want to convert our float values to datetimes.\n",
    "We can do this using Python's datetime module but we will need to give it integer values for hours, minutes and seconds. \n",
    "\"\"\"\n",
    "srise = [datetime.time(int(str(a)[:-2]), int(str(a)[-2:]), 0) for a in sunrise]\n",
    "sset = [datetime.time(int(str(a)[:-2]), int(str(a)[-2:]), 0) for a in sunset]\n",
    "\n",
    "print \"srise:\\n\", srise[:10], len(srise)\n",
    "print \"sset:\\n\", sset[:10], len(sset)"
   ]
  },
  {
   "cell_type": "code",
   "execution_count": 34,
   "metadata": {
    "collapsed": false
   },
   "outputs": [
    {
     "name": "stdout",
     "output_type": "stream",
     "text": [
      "DatetimeIndex(['2018-01-01', '2018-01-02', '2018-01-03', '2018-01-04',\n",
      "               '2018-01-05', '2018-01-06', '2018-01-07', '2018-01-08',\n",
      "               '2018-01-09', '2018-01-10',\n",
      "               ...\n",
      "               '2018-12-22', '2018-12-23', '2018-12-24', '2018-12-25',\n",
      "               '2018-12-26', '2018-12-27', '2018-12-28', '2018-12-29',\n",
      "               '2018-12-30', '2018-12-31'],\n",
      "              dtype='datetime64[ns]', length=365, freq='D')\n"
     ]
    }
   ],
   "source": [
    "# OK You might have noticed that the columns containing NaNs have been converted to floats while the months with 31 days are integers. \n",
    "\n",
    "# Creates a datetime list from any specific day:\n",
    "\n",
    "# But we don't want the time, we want a \"period\":\n",
    "periodlist = pd.date_range(start='%s-01-01' % year, end='%s-12-31' % year, freq='D')\n",
    "print periodlist"
   ]
  },
  {
   "cell_type": "code",
   "execution_count": 35,
   "metadata": {
    "collapsed": false
   },
   "outputs": [
    {
     "name": "stdout",
     "output_type": "stream",
     "text": [
      "Datelist:\n",
      "[datetime.date(2018, 1, 1), datetime.date(2018, 1, 2), datetime.date(2018, 1, 3), datetime.date(2018, 1, 4), datetime.date(2018, 1, 5), datetime.date(2018, 1, 6), datetime.date(2018, 1, 7), datetime.date(2018, 1, 8), datetime.date(2018, 1, 9), datetime.date(2018, 1, 10)]\n"
     ]
    }
   ],
   "source": [
    "# Periodlist contains strings, so I will convert them to actual pandas datetime objects. This will make plotting easier: \n",
    "datelist = [pd.to_datetime(date, format='%m-%d').date() for date in periodlist]\n",
    "print \"Datelist:\\n\", datelist[:10]"
   ]
  },
  {
   "cell_type": "code",
   "execution_count": 37,
   "metadata": {
    "collapsed": false
   },
   "outputs": [
    {
     "data": {
      "image/png": "[encoded data removed]",
      "text/plain": [
       "<matplotlib.figure.Figure at 0xcce4d68>"
      ]
     },
     "metadata": {},
     "output_type": "display_data"
    }
   ],
   "source": [
    "# Create a nice plot:\n",
    "plt.close()\n",
    "plt.figure()\n",
    "\n",
    "# Plot the sunrise and sunset series as lineplots:\n",
    "plt.plot(datelist, srise, label='sunrise')\n",
    "plt.plot(datelist, sset, label='sunset')\n",
    "\n",
    "# Let's put a fill between the two line plots:\n",
    "plt.fill_between(datelist, srise, sset, facecolor='yellow', alpha=0.2, interpolate=True)\n",
    "\n",
    "plt.legend()\n",
    "plt.show()"
   ]
  },
  {
   "cell_type": "code",
   "execution_count": null,
   "metadata": {
    "collapsed": true
   },
   "outputs": [],
   "source": [
    "\n"
   ]
  },
  {
   "cell_type": "code",
   "execution_count": null,
   "metadata": {
    "collapsed": true
   },
   "outputs": [],
   "source": []
  }
 ],
 "metadata": {
  "anaconda-cloud": {},
  "kernelspec": {
   "display_name": "Python [default]",
   "language": "python",
   "name": "python2"
  },
  "language_info": {
   "codemirror_mode": {
    "name": "ipython",
    "version": 2
   },
   "file_extension": ".py",
   "mimetype": "text/x-python",
   "name": "python",
   "nbconvert_exporter": "python",
   "pygments_lexer": "ipython2",
   "version": "2.7.14"
  }
 },
 "nbformat": 4,
 "nbformat_minor": 2
}
